{
 "cells": [
  {
   "cell_type": "code",
   "execution_count": null,
   "id": "282d095b-8df7-41c9-9d73-bf8602583ef8",
   "metadata": {
    "tags": []
   },
   "outputs": [],
   "source": [
    "import pandas as pd \n",
    "import numpy\n",
    "\n",
    "bdgd = pd.read_excel('./Bases/Ucs_UCAT.xlsx',\n",
    "dtype={'COD_ID':str})"
   ]
  },
  {
   "cell_type": "code",
   "execution_count": null,
   "id": "35a5d2f4",
   "metadata": {},
   "outputs": [],
   "source": [
    "def ibge_completo():\n",
    "    \n",
    "    municipios_ibge = pd.read_excel('./Bases/RELATORIO_DTB_BRASIL_DISTRITO.xls',\n",
    "    usecols=['Código Município Completo','UF','Nome_Município'])\n",
    "\n",
    "    ibge_estados = pd.read_excel('./Bases/Tabela_Estados_IBGE.xlsx')\n",
    "\n",
    "    #Mudando Nome da Coluna do IBGE e Estados\n",
    "    municipios_ibge\\\n",
    "        .rename(columns={'Código Município Completo':'MUN',\n",
    "        'Nome_Município':'MUNICIPIO','UF':'COD_UF'},inplace=True)\n",
    "\n",
    "    ibge_estados\\\n",
    "        .rename(columns={'Código da UF':'COD_UF','Estado':\"ESTADO\"},inplace=True)\n",
    "\n",
    "\n",
    "    #Deixando Municipios e Estado em extenso em letra maiscula\n",
    "    municipios_ibge.MUNICIPIO = municipios_ibge\\\n",
    "        .MUNICIPIO.str.upper()\n",
    "\n",
    "    ibge_estados.ESTADO = ibge_estados\\\n",
    "        .ESTADO.str.upper()\n",
    "\n",
    "    #Cruzando com IBGE com siglas de Municipio \n",
    "    ibge_completo = municipios_ibge.merge(ibge_estados,on='COD_UF')\n",
    "\n",
    "    #Removendo linhas duplicadas do datafrmae\n",
    "    ibge_completo.drop_duplicates(inplace=True)\n",
    "\n",
    "    return ibge_completo\n",
    "    \n",
    "ibge_completo = ibge_completo()"
   ]
  },
  {
   "cell_type": "code",
   "execution_count": null,
   "id": "3ee9a843",
   "metadata": {},
   "outputs": [],
   "source": [
    "print(f\"bdgd{bdgd.shape} | ibge {ibge_completo.shape}\")"
   ]
  },
  {
   "cell_type": "code",
   "execution_count": null,
   "id": "a2ee71b4-7b2c-4ecf-967e-20ddf3d7098a",
   "metadata": {},
   "outputs": [],
   "source": [
    "#Cruzando codigo_mun bdgd com ibge_completo\n",
    "dataframe_completo = bdgd.merge(ibge_completo,on='MUN',\n",
    "how='left',copy=True)  \n",
    "\n",
    "print(f\"Cruzamento{dataframe_completo.shape} \")"
   ]
  },
  {
   "cell_type": "code",
   "execution_count": null,
   "id": "5be9d5c4-ab20-4d3a-95ad-cff118802c6c",
   "metadata": {},
   "outputs": [],
   "source": [
    "df_consolidado = dataframe_completo[:] ## ** Melhorar código depois"
   ]
  },
  {
   "cell_type": "code",
   "execution_count": null,
   "id": "d931a44e-9637-45c6-b0b0-2e7901476103",
   "metadata": {},
   "outputs": [],
   "source": [
    "#Criando Coluna de Demanda agrupando Ponta e Fora ponta\n",
    "for x in range(1,13):\n",
    "    \n",
    "    if x < 10:\n",
    "        df_consolidado[f'DEM_{x}'] = (df_consolidado[f'DEM_P_0{x}'] + df_consolidado[f'DEM_F_0{x}'])\n",
    "        \n",
    "    else:\n",
    "        df_consolidado[f'DEM_{x}'] = (df_consolidado[f'DEM_P_{x}'] + df_consolidado[f'DEM_F_{x}'])       "
   ]
  },
  {
   "cell_type": "code",
   "execution_count": null,
   "id": "c92893b4-f881-4423-a75b-9f2071017c62",
   "metadata": {},
   "outputs": [],
   "source": [
    "#Criando Coluna de Energia agrupando Ponta e Fora ponta\n",
    "for x in range(1,13):\n",
    "    \n",
    "    if x < 10:\n",
    "        df_consolidado[f'ENE_{x}'] = (df_consolidado[f'ENE_P_0{x}'] + df_consolidado[f'ENE_F_0{x}'])\n",
    "        \n",
    "    else:\n",
    "        df_consolidado[f'ENE_{x}'] = (df_consolidado[f'ENE_P_{x}'] + df_consolidado[f'ENE_F_{x}'])        \n"
   ]
  },
  {
   "cell_type": "code",
   "execution_count": null,
   "id": "40400ea2",
   "metadata": {},
   "outputs": [],
   "source": [
    "df_consolidado[[\"COD_ID\",\"ENE_1\"]]"
   ]
  },
  {
   "cell_type": "code",
   "execution_count": null,
   "id": "07bfead8-b3af-4cbc-9e27-03d4ff02f233",
   "metadata": {},
   "outputs": [],
   "source": [
    "df_consolidado['ENE_MED'] = df_consolidado.loc[:, 'ENE_1':'ENE_12'].mean(axis=1)\n",
    "df_consolidado['DEM_MAX'] = df_consolidado.loc[:, 'DEM_1':'DEM_12'].max(axis=1)\n",
    "df_consolidado['DIC'] = df_consolidado.loc [:,'DIC_01':'DIC_12'].sum(axis=1)\n",
    "df_consolidado['FIC'] = df_consolidado.loc [:,'FIC_01':'FIC_12'].sum(axis=1)"
   ]
  },
  {
   "cell_type": "code",
   "execution_count": null,
   "id": "4608b960-430e-424d-b327-9eb210ce54ec",
   "metadata": {},
   "outputs": [],
   "source": [
    "#Limpando Colunas desnecessárias\n",
    "\n",
    "#Excluir Colunas de Energia mês a mês Demanda e Consumo\n",
    "\n",
    "#Demanda\n",
    "df_consolidado.drop(['DEM_1', 'DEM_2', 'DEM_3', 'DEM_4', 'DEM_5', 'DEM_6', 'DEM_7', 'DEM_8', 'DEM_9', 'DEM_10','DEM_11', 'DEM_12'],\n",
    "axis= 1 ,inplace=True)\n",
    "\n",
    "df_consolidado.drop(['DEM_P_01', 'DEM_P_02', 'DEM_P_03', 'DEM_P_04', 'DEM_P_05', 'DEM_P_06', 'DEM_P_07', 'DEM_P_08', 'DEM_P_09', \n",
    "                    'DEM_P_10', 'DEM_P_11', 'DEM_P_12', 'DEM_F_01', 'DEM_F_02', 'DEM_F_03', 'DEM_F_04', 'DEM_F_05', 'DEM_F_06', \n",
    "                    'DEM_F_07', 'DEM_F_08', 'DEM_F_09', 'DEM_F_10', 'DEM_F_11', 'DEM_F_12'],axis= 1 ,inplace=True)\n",
    "\n",
    "#Consumo\n",
    "df_consolidado.drop(['ENE_1', 'ENE_2', 'ENE_3', 'ENE_4', 'ENE_5', 'ENE_6', 'ENE_7', 'ENE_8', 'ENE_9', 'ENE_10', 'ENE_11',\n",
    "                     'ENE_12'],axis= 1,inplace=True)\n",
    "\n",
    "df_consolidado.drop(['ENE_P_01', 'ENE_P_02', 'ENE_P_03', 'ENE_P_04', 'ENE_P_05', 'ENE_P_06', 'ENE_P_07', 'ENE_P_08', 'ENE_P_09',\n",
    "                     'ENE_P_10', 'ENE_P_11', 'ENE_P_12', 'ENE_F_01', 'ENE_F_02', 'ENE_F_03', 'ENE_F_04', 'ENE_F_05', 'ENE_F_06',\n",
    "                     'ENE_F_07', 'ENE_F_08', 'ENE_F_09', 'ENE_F_10', 'ENE_F_11', 'ENE_F_12'],axis= 1,inplace=True)\n",
    "\n",
    "df_consolidado.drop(['DESCR'],axis= 1,inplace=True)\n",
    "\n",
    "\n",
    "\n",
    "df_consolidado.drop(['DIC_01', 'DIC_02', 'DIC_03', 'DIC_04', 'DIC_05','DIC_06', 'DIC_07', \n",
    "'DIC_08', 'DIC_09', 'DIC_10', 'DIC_11', 'DIC_12'],axis= 1,inplace=True)\n",
    "\n",
    "\n",
    "df_consolidado.drop(['FIC_01', 'FIC_02', 'FIC_03', 'FIC_04', 'FIC_05', 'FIC_06', 'FIC_07',\n",
    "'FIC_08', 'FIC_09', 'FIC_10', 'FIC_11', 'FIC_12'],axis=1,inplace=True)\n"
   ]
  },
  {
   "cell_type": "code",
   "execution_count": null,
   "id": "d1c348a6-b2b2-4add-95cc-61484d2c061b",
   "metadata": {},
   "outputs": [],
   "source": [
    "#Adicionando colunas para igualar com MT \n",
    "df_consolidado['SEMRED'] = 0\n",
    "df_consolidado['UNI_TR_S'] = 0\n",
    "\n",
    "#Renomear a CTAT_CTMT para esse nome tanto no AT e MT\n",
    "df_consolidado.rename(columns={'CTAT':'CT_AT_MT'},inplace=True)"
   ]
  },
  {
   "cell_type": "code",
   "execution_count": null,
   "id": "fda1d351",
   "metadata": {},
   "outputs": [],
   "source": [
    "df_consolidado.keys()"
   ]
  },
  {
   "cell_type": "code",
   "execution_count": null,
   "id": "41838f7a",
   "metadata": {
    "tags": []
   },
   "outputs": [],
   "source": [
    "# Connect SqlAlchemy\n",
    "from sqlalchemy import (MetaData,Table,String,\n",
    "Integer,Float,Column,insert,Numeric,inspect,select,insert)\n",
    "from common.base import connection_oracle_sqlalchemy\n",
    "\n",
    "engine= connection_oracle_sqlalchemy()\n",
    "metadata= MetaData()\n",
    "connection = engine.connect()\n",
    "insp = inspect(engine)"
   ]
  },
  {
   "cell_type": "code",
   "execution_count": null,
   "id": "66e3779e",
   "metadata": {},
   "outputs": [],
   "source": [
    "#Criando Tabela Oracle \n",
    "\n",
    "bdgd_at = Table('BDGD_AT',\n",
    "         metadata,\n",
    "         Column('COD_ID', String(255)),\n",
    "         Column('DIST', String(255)),\n",
    "         Column('LGRD', String(255)),\n",
    "         Column('BRR', String(255)),\n",
    "         Column('MUNICIPIO', String(255)),       \n",
    "         Column('ESTADO', String(255)),\n",
    "         Column('UF', String(255)),\n",
    "         Column('COD_UF', Numeric),\n",
    "         Column('MUN', Numeric),\n",
    "         Column('CEP', String(255)),\n",
    "         Column('CNAE', String(255)),\n",
    "         Column('ENE_MED', Float),\n",
    "         Column('DEM_MAX', Float),\n",
    "         Column('DEM_CONT',Float),\n",
    "         Column('LIV', Numeric),\n",
    "         Column('GRU_TAR',String(255)),                   \n",
    "         Column('SIT_ATIV', String(255)),\n",
    "         Column('CLAS_SUB', String(255)),\n",
    "         Column('DAT_CON', String(255)))\n",
    "\n",
    "metadata.create_all(engine)"
   ]
  },
  {
   "cell_type": "code",
   "execution_count": 15,
   "id": "e2274a40",
   "metadata": {},
   "outputs": [],
   "source": [
    "# Loc columns to commit \n",
    "df_bdgd_at = df_consolidado\\\n",
    "    .loc[:,['COD_ID','DIST','LGRD','BRR','MUNICIPIO','ESTADO',\n",
    "            'UF','COD_UF','MUN','CEP','CNAE','ENE_MED',\n",
    "            'DEM_MAX','DEM_CONT','LIV','GRU_TAR','SIT_ATIV',\n",
    "            'CLAS_SUB','DAT_CON']].copy()"
   ]
  },
  {
   "cell_type": "code",
   "execution_count": 1,
   "id": "d80660da",
   "metadata": {},
   "outputs": [
    {
     "ename": "NameError",
     "evalue": "name 'df_bdgd_at' is not defined",
     "output_type": "error",
     "traceback": [
      "\u001b[0;31m---------------------------------------------------------------------------\u001b[0m",
      "\u001b[0;31mNameError\u001b[0m                                 Traceback (most recent call last)",
      "Cell \u001b[0;32mIn[1], line 4\u001b[0m\n\u001b[1;32m      1\u001b[0m \u001b[38;5;66;03m#Verificando se existe colunas com mais de um types\u001b[39;00m\n\u001b[1;32m      2\u001b[0m verifica \u001b[38;5;241m=\u001b[39m [\u001b[38;5;28mprint\u001b[39m(colname,types \u001b[38;5;241m+\u001b[39m \u001b[38;5;124m'\u001b[39m\u001b[38;5;124mCorrigir\u001b[39m\u001b[38;5;124m'\u001b[39m)\n\u001b[1;32m      3\u001b[0m             \u001b[38;5;28;01mif\u001b[39;00m types \u001b[38;5;241m>\u001b[39m \u001b[38;5;241m1\u001b[39m \u001b[38;5;28;01melse\u001b[39;00m \u001b[38;5;28;01mNone\u001b[39;00m\n\u001b[0;32m----> 4\u001b[0m             \u001b[38;5;28;01mfor\u001b[39;00m colname,types \u001b[38;5;129;01min\u001b[39;00m \u001b[43mdf_bdgd_at\u001b[49m\u001b[38;5;241m.\u001b[39mapplymap(\u001b[38;5;28mtype\u001b[39m)\u001b[38;5;241m.\u001b[39mnunique()\u001b[38;5;241m.\u001b[39mitems()]\n",
      "\u001b[0;31mNameError\u001b[0m: name 'df_bdgd_at' is not defined"
     ]
    }
   ],
   "source": [
    "#Verificando se existe colunas com mais de um types\n",
    "verifica = [print(colname,types + 'Corrigir')\n",
    "            if types > 1 else None\n",
    "            for colname,types in df_bdgd_at.applymap(type).nunique().items()]"
   ]
  },
  {
   "cell_type": "code",
   "execution_count": 64,
   "id": "e099d123",
   "metadata": {},
   "outputs": [],
   "source": [
    "#Tranformando List-Dict to SqlAlchemy\n",
    "values_list =[{'COD_ID':row.COD_ID, 'DIST':row.DIST, 'LGRD':row.LGRD, 'BRR':row.BRR,\n",
    "  'MUNICIPIO':row.MUNICIPIO, 'ESTADO':row.ESTADO, 'UF':row.UF,\n",
    "  'COD_UF':row.COD_UF, 'MUN':row.MUN, 'CEP':row.CEP,\n",
    "  'CNAE':row.CNAE, 'ENE_MED':row.ENE_MED, 'DEM_MAX':row.DEM_MAX,\n",
    "  'LIV':row.LIV, 'GRU_TAR':row.GRU_TAR,'SIT_ATIV':row.SIT_ATIV,\n",
    "  'CLAS_SUB':row.CLAS_SUB,'DAT_CON':row.DAT_CON} for row in df_bdgd_at.itertuples()]  "
   ]
  },
  {
   "cell_type": "code",
   "execution_count": 68,
   "id": "62f9f634",
   "metadata": {},
   "outputs": [],
   "source": [
    "#Commit Oracle - SQL \n",
    "stmt = insert(bdgd_at)\n",
    "results_proxy = connection.execute(stmt,values_list,batcherrors=True)\n",
    "print(results_proxy.rowcount)"
   ]
  },
  {
   "cell_type": "code",
   "execution_count": 69,
   "id": "23945ea1-5f08-45f2-bf56-dd70887cdf40",
   "metadata": {},
   "outputs": [
    {
     "name": "stdout",
     "output_type": "stream",
     "text": [
      "1905\n"
     ]
    }
   ],
   "source": []
  },
  {
   "cell_type": "code",
   "execution_count": null,
   "id": "42b56464-9f86-4ccc-a71b-af6d2e3891be",
   "metadata": {},
   "outputs": [],
   "source": []
  }
 ],
 "metadata": {
  "kernelspec": {
   "display_name": "Python 3 (ipykernel)",
   "language": "python",
   "name": "python3"
  },
  "language_info": {
   "codemirror_mode": {
    "name": "ipython",
    "version": 3
   },
   "file_extension": ".py",
   "mimetype": "text/x-python",
   "name": "python",
   "nbconvert_exporter": "python",
   "pygments_lexer": "ipython3",
   "version": "3.10.8"
  },
  "vscode": {
   "interpreter": {
    "hash": "91be499baec0d0ffc6be11b31c70b1ddae66a4dfc8d8c50f7561a95d256ed62e"
   }
  }
 },
 "nbformat": 4,
 "nbformat_minor": 5
}
