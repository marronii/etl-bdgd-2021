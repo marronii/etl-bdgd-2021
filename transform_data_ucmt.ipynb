{
 "cells": [
  {
   "cell_type": "code",
   "execution_count": 1,
   "id": "282d095b-8df7-41c9-9d73-bf8602583ef8",
   "metadata": {
    "tags": []
   },
   "outputs": [
    {
     "name": "stderr",
     "output_type": "stream",
     "text": [
      "/tmp/ipykernel_17183/1247011084.py:8: DtypeWarning: Columns (1,3,4,5,6,74) have mixed types. Specify dtype option on import or set low_memory=False.\n",
      "  bdgd = pd.read_csv('./Bases/Ucs_UCMT.csv',\n"
     ]
    }
   ],
   "source": [
    "import pandas as pd \n",
    "import numpy as np\n",
    "\n",
    "col_names = ['COD_ID','DIST','LGRD','BRR','MUNICIPIO','ESTADO',\n",
    "            'UF','COD_UF','CEP','CNAE','GRU_TAR','SIT_ATIV',\n",
    "            'CLAS_SUB','DAT_CON']\n",
    "\n",
    "bdgd = pd.read_csv('./Bases/Ucs_UCMT.csv',\n",
    "                   dtype={colname:str for colname in col_names},sep=';',\n",
    "                   encoding='latin-1')"
   ]
  },
  {
   "cell_type": "code",
   "execution_count": 2,
   "id": "b1d92efe",
   "metadata": {},
   "outputs": [],
   "source": [
    "#Verificando se existe colunas com mais de um types\n",
    "def vefica_types(dataframe):\n",
    "    \n",
    "    verifica = [print(colname,str(types) + '-Corrigir')\n",
    "            if types > 1 else None\n",
    "            for colname,types in dataframe.applymap(type).nunique().items()]"
   ]
  },
  {
   "cell_type": "code",
   "execution_count": 3,
   "id": "35a5d2f4",
   "metadata": {},
   "outputs": [],
   "source": [
    "def ibge_completo():\n",
    "    \n",
    "    municipios_ibge = pd.read_excel('./Bases/RELATORIO_DTB_BRASIL_DISTRITO.xls',\n",
    "    usecols=['Código Município Completo','UF','Nome_Município'],\n",
    "    dtype={'Código Município Completo':int,\n",
    "    'UF':int,\n",
    "    'Nome_Município':str})\n",
    "\n",
    "    ibge_estados = pd.read_excel('./Bases/Tabela_Estados_IBGE.xlsx',\n",
    "    dtype={'Código da UF':int,\n",
    "    'Estado':str})\n",
    "\n",
    "    #Usar loop para nomear string as colunas *****\n",
    "\n",
    "    #Mudando Nome da Coluna do IBGE e Estados\n",
    "    municipios_ibge\\\n",
    "        .rename(columns={'Código Município Completo':'MUN',\n",
    "        'Nome_Município':'MUNICIPIO','UF':'COD_UF'},inplace=True)\n",
    "\n",
    "    ibge_estados\\\n",
    "        .rename(columns={'Código da UF':'COD_UF','Estado':\"ESTADO\"},inplace=True)\n",
    "\n",
    "\n",
    "    #Deixando Municipios e Estado em extenso em letra maiscula\n",
    "    municipios_ibge.MUNICIPIO = municipios_ibge\\\n",
    "        .MUNICIPIO.str.upper()\n",
    "\n",
    "    ibge_estados.ESTADO = ibge_estados\\\n",
    "        .ESTADO.str.upper()\n",
    "\n",
    "    #Cruzando com IBGE com siglas de Municipio \n",
    "    ibge_completo = municipios_ibge.merge(ibge_estados,on='COD_UF')\n",
    "\n",
    "    #Removendo linhas duplicadas do datafrmae\n",
    "    ibge_completo.drop_duplicates(inplace=True)\n",
    "\n",
    "    return ibge_completo\n",
    "    \n",
    "ibge_completo = ibge_completo()"
   ]
  },
  {
   "cell_type": "code",
   "execution_count": 4,
   "id": "3ee9a843",
   "metadata": {},
   "outputs": [
    {
     "name": "stdout",
     "output_type": "stream",
     "text": [
      "bdgd(292989, 78) | ibge (5570, 5)\n"
     ]
    }
   ],
   "source": [
    "print(f\"bdgd{bdgd.shape} | ibge {ibge_completo.shape}\")"
   ]
  },
  {
   "cell_type": "code",
   "execution_count": 5,
   "id": "a2ee71b4-7b2c-4ecf-967e-20ddf3d7098a",
   "metadata": {},
   "outputs": [
    {
     "name": "stdout",
     "output_type": "stream",
     "text": [
      "Cruzamento(292989, 82) \n"
     ]
    }
   ],
   "source": [
    "#Cruzando codigo_mun bdgd com ibge_completo\n",
    "dataframe_completo = bdgd.merge(ibge_completo,on='MUN',\n",
    "how='left',copy=True)  \n",
    "\n",
    "print(f\"Cruzamento{dataframe_completo.shape} \")"
   ]
  },
  {
   "cell_type": "code",
   "execution_count": 6,
   "id": "5be9d5c4-ab20-4d3a-95ad-cff118802c6c",
   "metadata": {},
   "outputs": [],
   "source": [
    "df_consolidado = dataframe_completo[:] ## ** Melhorar código depois"
   ]
  },
  {
   "cell_type": "code",
   "execution_count": 7,
   "id": "07bfead8-b3af-4cbc-9e27-03d4ff02f233",
   "metadata": {},
   "outputs": [
    {
     "name": "stderr",
     "output_type": "stream",
     "text": [
      "/tmp/ipykernel_17183/2011574496.py:1: SettingWithCopyWarning: \n",
      "A value is trying to be set on a copy of a slice from a DataFrame.\n",
      "Try using .loc[row_indexer,col_indexer] = value instead\n",
      "\n",
      "See the caveats in the documentation: https://pandas.pydata.org/pandas-docs/stable/user_guide/indexing.html#returning-a-view-versus-a-copy\n",
      "  df_consolidado['ENE_MED'] = df_consolidado.loc[:, 'ENE_01':'ENE_12'].mean(axis=1)\n",
      "/tmp/ipykernel_17183/2011574496.py:2: SettingWithCopyWarning: \n",
      "A value is trying to be set on a copy of a slice from a DataFrame.\n",
      "Try using .loc[row_indexer,col_indexer] = value instead\n",
      "\n",
      "See the caveats in the documentation: https://pandas.pydata.org/pandas-docs/stable/user_guide/indexing.html#returning-a-view-versus-a-copy\n",
      "  df_consolidado['DEM_MAX'] = df_consolidado.loc[:, 'DEM_01':'DEM_12'].max(axis=1)\n",
      "/tmp/ipykernel_17183/2011574496.py:3: SettingWithCopyWarning: \n",
      "A value is trying to be set on a copy of a slice from a DataFrame.\n",
      "Try using .loc[row_indexer,col_indexer] = value instead\n",
      "\n",
      "See the caveats in the documentation: https://pandas.pydata.org/pandas-docs/stable/user_guide/indexing.html#returning-a-view-versus-a-copy\n",
      "  df_consolidado['DIC'] = df_consolidado.loc [:,'DIC_01':'DIC_12'].sum(axis=1)\n",
      "/tmp/ipykernel_17183/2011574496.py:4: SettingWithCopyWarning: \n",
      "A value is trying to be set on a copy of a slice from a DataFrame.\n",
      "Try using .loc[row_indexer,col_indexer] = value instead\n",
      "\n",
      "See the caveats in the documentation: https://pandas.pydata.org/pandas-docs/stable/user_guide/indexing.html#returning-a-view-versus-a-copy\n",
      "  df_consolidado['FIC'] = df_consolidado.loc [:,'FIC_01':'FIC_12'].sum(axis=1)\n"
     ]
    }
   ],
   "source": [
    "df_consolidado['ENE_MED'] = df_consolidado.loc[:, 'ENE_01':'ENE_12'].mean(axis=1)\n",
    "df_consolidado['DEM_MAX'] = df_consolidado.loc[:, 'DEM_01':'DEM_12'].max(axis=1)\n",
    "df_consolidado['DIC'] = df_consolidado.loc [:,'DIC_01':'DIC_12'].sum(axis=1)\n",
    "df_consolidado['FIC'] = df_consolidado.loc [:,'FIC_01':'FIC_12'].sum(axis=1)"
   ]
  },
  {
   "cell_type": "code",
   "execution_count": 8,
   "id": "4608b960-430e-424d-b327-9eb210ce54ec",
   "metadata": {},
   "outputs": [
    {
     "name": "stderr",
     "output_type": "stream",
     "text": [
      "/tmp/ipykernel_17183/1790195318.py:7: SettingWithCopyWarning: \n",
      "A value is trying to be set on a copy of a slice from a DataFrame\n",
      "\n",
      "See the caveats in the documentation: https://pandas.pydata.org/pandas-docs/stable/user_guide/indexing.html#returning-a-view-versus-a-copy\n",
      "  df_consolidado.drop(['DEM_01', 'DEM_02', 'DEM_03', 'DEM_04', 'DEM_05', 'DEM_06', 'DEM_07',\n",
      "/tmp/ipykernel_17183/1790195318.py:12: SettingWithCopyWarning: \n",
      "A value is trying to be set on a copy of a slice from a DataFrame\n",
      "\n",
      "See the caveats in the documentation: https://pandas.pydata.org/pandas-docs/stable/user_guide/indexing.html#returning-a-view-versus-a-copy\n",
      "  df_consolidado.drop(['ENE_01', 'ENE_02', 'ENE_03', 'ENE_04',\n",
      "/tmp/ipykernel_17183/1790195318.py:17: SettingWithCopyWarning: \n",
      "A value is trying to be set on a copy of a slice from a DataFrame\n",
      "\n",
      "See the caveats in the documentation: https://pandas.pydata.org/pandas-docs/stable/user_guide/indexing.html#returning-a-view-versus-a-copy\n",
      "  df_consolidado.drop(['DESCR'],axis= 1,inplace=True)\n",
      "/tmp/ipykernel_17183/1790195318.py:20: SettingWithCopyWarning: \n",
      "A value is trying to be set on a copy of a slice from a DataFrame\n",
      "\n",
      "See the caveats in the documentation: https://pandas.pydata.org/pandas-docs/stable/user_guide/indexing.html#returning-a-view-versus-a-copy\n",
      "  df_consolidado.drop(['DIC_01', 'DIC_02', 'DIC_03', 'DIC_04', 'DIC_05','DIC_06', 'DIC_07',\n",
      "/tmp/ipykernel_17183/1790195318.py:24: SettingWithCopyWarning: \n",
      "A value is trying to be set on a copy of a slice from a DataFrame\n",
      "\n",
      "See the caveats in the documentation: https://pandas.pydata.org/pandas-docs/stable/user_guide/indexing.html#returning-a-view-versus-a-copy\n",
      "  df_consolidado.drop(['FIC_01', 'FIC_02', 'FIC_03', 'FIC_04', 'FIC_05', 'FIC_06', 'FIC_07',\n"
     ]
    }
   ],
   "source": [
    "#Limpando Colunas desnecessárias\n",
    "\n",
    "#Excluir Colunas de Energia mês a mês Demanda e Consumo\n",
    "\n",
    "\n",
    "#Demanda\n",
    "df_consolidado.drop(['DEM_01', 'DEM_02', 'DEM_03', 'DEM_04', 'DEM_05', 'DEM_06', 'DEM_07',\n",
    "'DEM_08', 'DEM_09', 'DEM_10','DEM_11', 'DEM_12'],\n",
    "axis= 1 ,inplace=True)\n",
    "\n",
    "#Consumo\n",
    "df_consolidado.drop(['ENE_01', 'ENE_02', 'ENE_03', 'ENE_04',\n",
    " 'ENE_05', 'ENE_06', 'ENE_07', 'ENE_08', 'ENE_09', 'ENE_10', 'ENE_11',\n",
    "                     'ENE_12'],axis= 1,inplace=True)\n",
    "\n",
    "\n",
    "df_consolidado.drop(['DESCR'],axis= 1,inplace=True)\n",
    "\n",
    "\n",
    "df_consolidado.drop(['DIC_01', 'DIC_02', 'DIC_03', 'DIC_04', 'DIC_05','DIC_06', 'DIC_07', \n",
    "'DIC_08', 'DIC_09', 'DIC_10', 'DIC_11', 'DIC_12'],axis= 1,inplace=True)\n",
    "\n",
    "\n",
    "df_consolidado.drop(['FIC_01', 'FIC_02', 'FIC_03', 'FIC_04', 'FIC_05', 'FIC_06', 'FIC_07',\n",
    "'FIC_08', 'FIC_09', 'FIC_10', 'FIC_11', 'FIC_12'],axis=1,inplace=True)\n"
   ]
  },
  {
   "cell_type": "code",
   "execution_count": 9,
   "id": "d1c348a6-b2b2-4add-95cc-61484d2c061b",
   "metadata": {},
   "outputs": [
    {
     "name": "stderr",
     "output_type": "stream",
     "text": [
      "/tmp/ipykernel_17183/2530880738.py:2: SettingWithCopyWarning: \n",
      "A value is trying to be set on a copy of a slice from a DataFrame\n",
      "\n",
      "See the caveats in the documentation: https://pandas.pydata.org/pandas-docs/stable/user_guide/indexing.html#returning-a-view-versus-a-copy\n",
      "  df_consolidado.rename(columns={'CTAT':'CT_AT_MT'},inplace=True)\n"
     ]
    }
   ],
   "source": [
    "#Renomear a CTAT_CTMT para esse nome tanto no AT e MT\n",
    "df_consolidado.rename(columns={'CTAT':'CT_AT_MT'},inplace=True)"
   ]
  },
  {
   "cell_type": "code",
   "execution_count": 10,
   "id": "fda1d351",
   "metadata": {},
   "outputs": [
    {
     "data": {
      "text/plain": [
       "Index(['COD_ID', 'PN_CON', 'DIST', 'PAC', 'CTMT', 'UNI_TR_AT', 'SUB', 'CONJ',\n",
       "       'MUN', 'CEG_GD', 'LGRD', 'BRR', 'CEP', 'CLAS_SUB', 'CNAE', 'TIP_CC',\n",
       "       'FAS_CON', 'GRU_TEN', 'TEN_FORN', 'GRU_TAR', 'SIT_ATIV', 'DAT_CON',\n",
       "       'CAR_INST', 'LIV', 'ARE_LOC', 'SEMRED', 'DEM_CONT', 'xcoord', 'ycoord',\n",
       "       'COD_UF', 'MUNICIPIO', 'UF', 'ESTADO', 'ENE_MED', 'DEM_MAX', 'DIC',\n",
       "       'FIC'],\n",
       "      dtype='object')"
      ]
     },
     "execution_count": 10,
     "metadata": {},
     "output_type": "execute_result"
    }
   ],
   "source": [
    "df_consolidado.keys()"
   ]
  },
  {
   "cell_type": "code",
   "execution_count": 1,
   "id": "41838f7a",
   "metadata": {},
   "outputs": [],
   "source": [
    "# Connect SqlAlchemy\n",
    "from sqlalchemy import (MetaData,Table,String,\n",
    "Integer,Float,Column,insert,Numeric,inspect,select,insert)\n",
    "from common.base import connection_oracle_sqlalchemy\n",
    "\n",
    "engine= connection_oracle_sqlalchemy()\n",
    "metadata= MetaData()\n",
    "connection = engine.connect()\n",
    "insp = inspect(engine)"
   ]
  },
  {
   "cell_type": "code",
   "execution_count": 2,
   "id": "66e3779e",
   "metadata": {},
   "outputs": [],
   "source": [
    "#Criando Tabela Oracle \n",
    "\n",
    "bdgd_mt = Table('BDGD_MT',metadata,\n",
    "         Column('COD_ID', String(255)),\n",
    "         Column('DIST', String(255)),\n",
    "         Column('LGRD', String(255)),\n",
    "         Column('BRR', String(255)),\n",
    "         Column('MUNICIPIO', String(255)),       \n",
    "         Column('ESTADO', String(255)),\n",
    "         Column('UF', String(255)),\n",
    "         Column('COD_UF', String(10)),\n",
    "         Column('MUN', Numeric),\n",
    "         Column('CEP', String(255)),\n",
    "         Column('CNAE', String(255)),\n",
    "         Column('ENE_MED', Float),\n",
    "         Column('DEM_MAX', Float),\n",
    "         Column('DEM_CONT',Float),\n",
    "         Column('LIV', Numeric),\n",
    "         Column('GRU_TAR',String(255)),                   \n",
    "         Column('SIT_ATIV', String(255)),\n",
    "         Column('CLAS_SUB', String(255)),\n",
    "         Column('DAT_CON', String(255)))\n",
    "                               \n",
    "\n",
    "metadata.create_all(engine)"
   ]
  },
  {
   "cell_type": "code",
   "execution_count": 24,
   "id": "e6f20a05-8044-40c9-9166-cafc3c4e7f6e",
   "metadata": {},
   "outputs": [],
   "source": [
    "#Load Table\n",
    "bdgd_mt = Table('BDGD_MT',metadata,\n",
    "         autoload=True,\n",
    "         autoload_with=engine)"
   ]
  },
  {
   "cell_type": "code",
   "execution_count": 13,
   "id": "fbb0f87c-8e81-47b1-9574-210b1932b56b",
   "metadata": {},
   "outputs": [],
   "source": [
    "# Loc columns to commit \n",
    "df_bdgd_mt = df_consolidado\\\n",
    "    .loc[:,['COD_ID','DIST','LGRD','BRR','MUNICIPIO','ESTADO',\n",
    "            'UF','COD_UF','MUN','CEP','CNAE','ENE_MED',\n",
    "            'DEM_MAX','DEM_CONT','LIV','GRU_TAR','SIT_ATIV',\n",
    "            'CLAS_SUB','DAT_CON']].copy()"
   ]
  },
  {
   "cell_type": "code",
   "execution_count": 16,
   "id": "08bbbf3c",
   "metadata": {},
   "outputs": [],
   "source": [
    "#Verificar todos mixtypes\n",
    "vefica_types(df_bdgd_mt)"
   ]
  },
  {
   "cell_type": "code",
   "execution_count": 15,
   "id": "e261c1ef-48cf-45af-bb80-01739c708c4c",
   "metadata": {},
   "outputs": [],
   "source": [
    "#MixType Correct\n",
    "df_bdgd_mt.BRR = df_bdgd_mt.BRR.astype(str)\n",
    "df_bdgd_mt.MUNICIPIO = df_bdgd_mt.MUNICIPIO.astype(str)\n",
    "df_bdgd_mt.ESTADO = df_bdgd_mt.ESTADO.astype(str)\n",
    "df_bdgd_mt.UF = df_bdgd_mt.UF.astype(str)\n",
    "df_bdgd_mt.CNAE = df_bdgd_mt.CNAE.astype(str)"
   ]
  },
  {
   "cell_type": "code",
   "execution_count": 17,
   "id": "fcc8f0df-e5c5-4199-9da5-a77ca567df19",
   "metadata": {},
   "outputs": [],
   "source": [
    "#Tratment Columns \n",
    "\n",
    "df_bdgd_mt.isna().value_counts()\n",
    "df_bdgd_mt.fillna(0,inplace=True)\n",
    "\n",
    "df_bdgd_mt.COD_UF = df_bdgd_mt.COD_UF.astype(str)\n",
    "df_bdgd_mt.COD_UF = df_bdgd_mt.COD_UF.str.replace('.0','',regex=True)"
   ]
  },
  {
   "cell_type": "code",
   "execution_count": 18,
   "id": "23ed04df",
   "metadata": {},
   "outputs": [],
   "source": [
    "#Tranformando List-Dict to SqlAlchemy\n",
    "values_list =[{'COD_ID':row.COD_ID, 'DIST':row.DIST, 'LGRD':row.LGRD, 'BRR':row.BRR,\n",
    "  'MUNICIPIO':row.MUNICIPIO, 'ESTADO':row.ESTADO, 'UF':row.UF,\n",
    "  'COD_UF':row.COD_UF, 'MUN':row.MUN, 'CEP':row.CEP,\n",
    "  'CNAE':row.CNAE, 'ENE_MED':row.ENE_MED, 'DEM_MAX':row.DEM_MAX,\n",
    "  'LIV':row.LIV, 'GRU_TAR':row.GRU_TAR,'SIT_ATIV':row.SIT_ATIV,\n",
    "  'CLAS_SUB':row.CLAS_SUB,'DAT_CON':row.DAT_CON} for row in df_bdgd_mt.itertuples()] "
   ]
  },
  {
   "cell_type": "code",
   "execution_count": 19,
   "id": "6f8b77fc-b22d-49fd-aa34-ea51f634f5fe",
   "metadata": {},
   "outputs": [
    {
     "name": "stdout",
     "output_type": "stream",
     "text": [
      "292989\n"
     ]
    }
   ],
   "source": [
    "#Commit Oracle - SQL \n",
    "stmt = insert(bdgd_mt)\n",
    "results_proxy = connection.execute(stmt,values_list,batcherrors=True)\n",
    "print(results_proxy.rowcount)"
   ]
  },
  {
   "cell_type": "code",
   "execution_count": null,
   "id": "b26fe84a-9b1a-465e-bb32-d0be387603d0",
   "metadata": {},
   "outputs": [],
   "source": []
  }
 ],
 "metadata": {
  "kernelspec": {
   "display_name": "Python 3 (ipykernel)",
   "language": "python",
   "name": "python3"
  },
  "language_info": {
   "codemirror_mode": {
    "name": "ipython",
    "version": 3
   },
   "file_extension": ".py",
   "mimetype": "text/x-python",
   "name": "python",
   "nbconvert_exporter": "python",
   "pygments_lexer": "ipython3",
   "version": "3.10.8"
  },
  "vscode": {
   "interpreter": {
    "hash": "91be499baec0d0ffc6be11b31c70b1ddae66a4dfc8d8c50f7561a95d256ed62e"
   }
  }
 },
 "nbformat": 4,
 "nbformat_minor": 5
}
