{
 "cells": [
  {
   "cell_type": "code",
   "execution_count": null,
   "id": "282d095b-8df7-41c9-9d73-bf8602583ef8",
   "metadata": {
    "tags": []
   },
   "outputs": [],
   "source": [
    "import pandas as pd\n",
    "from common.base import connection_oracle\n",
    "from sqlalchemy import (MetaData,Table,String,\n",
    "Integer,Float,Column,Numeric,inspect,select,insert)\n",
    "\n",
    "#SqlAlchemy\n",
    "engine = connection_oracle()\n",
    "metadata = MetaData()\n",
    "connection = engine.connect()\n",
    "insp = inspect(engine)"
   ]
  },
  {
   "cell_type": "code",
   "execution_count": null,
   "id": "35a5d2f4",
   "metadata": {},
   "outputs": [],
   "source": [
    "def table_ibge():\n",
    "    \n",
    "    municipios_ibge = pd.read_excel('./src/database/db_ibge.xls',\n",
    "    usecols=['Código Município Completo','UF','Nome_Município'])\n",
    "\n",
    "    ibge_estados = pd.read_excel('./src/database/db_ibge_estado.xlsx')\n",
    "\n",
    "    #Mudando Nome da Coluna do IBGE e Estados\n",
    "    municipios_ibge\\\n",
    "        .rename(columns={'Código Município Completo':'mun',\n",
    "        'Nome_Município':'municipio','UF':'cod_uf'},inplace=True)\n",
    "\n",
    "    ibge_estados\\\n",
    "        .rename(columns={'Código da UF':'cod_uf','Estado':\"estado\"},inplace=True)\n",
    "\n",
    "\n",
    "    #Deixando Municipios e Estado em extenso em letra maiscula\n",
    "    municipios_ibge.municipio = municipios_ibge\\\n",
    "        .municipio.str.upper()\n",
    "\n",
    "    ibge_estados.estado = ibge_estados\\\n",
    "        .estado.str.upper()\n",
    "\n",
    "    #Cruzando com IBGE com siglas de Municipio \n",
    "    ibge = municipios_ibge.merge(ibge_estados,on='cod_uf')\n",
    "\n",
    "    #Removendo linhas duplicadas do datafrmae\n",
    "    ibge.drop_duplicates(inplace=True)\n",
    "\n",
    "    return ibge\n",
    "def table_bdgd():\n",
    "    table = Table('db_raw_bdgd_ucat',metadata,autoload_with=engine)\n",
    "    stmt = select(table)\n",
    "    results= connection.execute(stmt).fetchall()\n",
    "    dataframe = pd.DataFrame(results)\n",
    "    dataframe.columns = [col.get('name') for col in insp.get_columns('db_raw_bdgd_ucat')]\n",
    "    return dataframe\n",
    "def create_table(name):\n",
    "    bdgd_at = Table(f'{name}',metadata,\n",
    "             Column('COD_ID', String(255)),\n",
    "             Column('DIST', String(255)),\n",
    "             Column('LGRD', String(255)),\n",
    "             Column('BRR', String(255)),\n",
    "             Column('MUNICIPIO', String(255)),\n",
    "             Column('ESTADO', String(255)),\n",
    "             Column('UF', String(255)),\n",
    "             Column('COD_UF', String(10)),\n",
    "             Column('MUN', Numeric),\n",
    "             Column('CEP', String(255)),\n",
    "             Column('CNAE', String(255)),\n",
    "             Column('ENE_MED', Float),\n",
    "             Column('DEM_MAX', Float),\n",
    "             Column('DEM_CONT',Float),\n",
    "             Column('LIV', String(5)),\n",
    "             Column('GRU_TAR',String(255)),\n",
    "             Column('SIT_ATIV', String(255)),\n",
    "             Column('CLAS_SUB', String(255)),\n",
    "             Column('DAT_CON', String(255)))\n",
    "\n",
    "    metadata.create_all(engine)\n",
    "    return bdgd_at\n",
    "\n",
    "df_ibge = table_ibge()\n",
    "df_bdgd = table_bdgd()"
   ]
  },
  {
   "cell_type": "code",
   "execution_count": null,
   "id": "3ee9a843",
   "metadata": {},
   "outputs": [],
   "source": [
    "print(f\"bdgd{df_bdgd.shape} | ibge {df_ibge.shape}\")"
   ]
  },
  {
   "cell_type": "code",
   "execution_count": null,
   "id": "a2ee71b4-7b2c-4ecf-967e-20ddf3d7098a",
   "metadata": {},
   "outputs": [],
   "source": [
    "#Relationship codigo_mun bdgd com df_ibge\n",
    "dataframe_raw = df_bdgd.merge(df_ibge,on='mun',\n",
    "how='left',copy=True)\n",
    "print(f\"Cruzamento{dataframe_raw.shape} \")"
   ]
  },
  {
   "cell_type": "code",
   "execution_count": null,
   "metadata": {
    "collapsed": false
   },
   "outputs": [],
   "source": [
    "#Upper Columns\n",
    "dataframe_raw.columns  = dataframe_raw.keys().str.upper()"
   ]
  },
  {
   "cell_type": "code",
   "execution_count": null,
   "id": "d931a44e-9637-45c6-b0b0-2e7901476103",
   "metadata": {},
   "outputs": [],
   "source": [
    "#Agrupando Demanda Ponta e Fora Ponta\n",
    "for x in range(1,13):\n",
    "    \n",
    "    if x < 10:\n",
    "        dataframe_raw[f'DEM_{x}'] = (dataframe_raw[f'DEM_P_0{x}'] + dataframe_raw[f'DEM_F_0{x}'])\n",
    "        \n",
    "    else:\n",
    "        dataframe_raw[f'DEM_{x}'] = (dataframe_raw[f'DEM_P_{x}'] + dataframe_raw[f'DEM_F_{x}'])"
   ]
  },
  {
   "cell_type": "code",
   "execution_count": null,
   "id": "c92893b4-f881-4423-a75b-9f2071017c62",
   "metadata": {},
   "outputs": [],
   "source": [
    "#Agrupando Energia Ponta e Fora Ponta\n",
    "for x in range(1,13):\n",
    "    \n",
    "    if x < 10:\n",
    "        dataframe_raw[f'ENE_{x}'] = (dataframe_raw[f'ENE_P_0{x}'] + dataframe_raw[f'ENE_F_0{x}'])\n",
    "        \n",
    "    else:\n",
    "        dataframe_raw[f'ENE_{x}'] = (dataframe_raw[f'ENE_P_{x}'] + dataframe_raw[f'ENE_F_{x}'])"
   ]
  },
  {
   "cell_type": "code",
   "execution_count": null,
   "id": "07bfead8-b3af-4cbc-9e27-03d4ff02f233",
   "metadata": {},
   "outputs": [],
   "source": [
    "#Calculando - Consumo Médio 12 Meses\n",
    "dataframe_raw['ENE_MED'] = dataframe_raw.loc[:, 'ENE_1':'ENE_12'].mean(axis=1)\n",
    "#Calculando - Demanda Maxima 12 Meses\n",
    "dataframe_raw['DEM_MAX'] = dataframe_raw.loc[:, 'DEM_1':'DEM_12'].max(axis=1)\n",
    "#Calculando - Total Horas Sem Energia nos 12 Meses\n",
    "dataframe_raw['DIC'] = dataframe_raw.loc [:,'DIC_01':'DIC_12'].sum(axis=1)\n",
    "#Calculando - Total de Interrupções nos 12 Meses\n",
    "dataframe_raw['FIC'] = dataframe_raw.loc [:,'FIC_01':'FIC_12'].sum(axis=1)"
   ]
  },
  {
   "cell_type": "code",
   "execution_count": null,
   "id": "4608b960-430e-424d-b327-9eb210ce54ec",
   "metadata": {},
   "outputs": [],
   "source": [
    "#Excluindo Colunas\n",
    "dataframe_raw.drop(['DEM_1', 'DEM_2', 'DEM_3', 'DEM_4', 'DEM_5', 'DEM_6', 'DEM_7',\n",
    "                    'DEM_8', 'DEM_9', 'DEM_10','DEM_11', 'DEM_12','DEM_P_01', 'DEM_P_02',\n",
    "                    'DEM_P_03', 'DEM_P_04', 'DEM_P_05', 'DEM_P_06', 'DEM_P_07', 'DEM_P_08',\n",
    "                    'DEM_P_09','DEM_P_10', 'DEM_P_11', 'DEM_P_12', 'DEM_F_01', 'DEM_F_02',\n",
    "                    'DEM_F_03', 'DEM_F_04', 'DEM_F_05', 'DEM_F_06','DEM_F_07', 'DEM_F_08',\n",
    "                    'DEM_F_09', 'DEM_F_10', 'DEM_F_11', 'DEM_F_12','ENE_1', 'ENE_2', 'ENE_3',\n",
    "                    'ENE_4', 'ENE_5', 'ENE_6', 'ENE_7', 'ENE_8', 'ENE_9', 'ENE_10', 'ENE_11',\n",
    "                    'ENE_12','ENE_P_01', 'ENE_P_02', 'ENE_P_03', 'ENE_P_04', 'ENE_P_05',\n",
    "                    'ENE_P_06', 'ENE_P_07', 'ENE_P_08', 'ENE_P_09', 'ENE_P_10', 'ENE_P_11',\n",
    "                    'ENE_P_12', 'ENE_F_01', 'ENE_F_02', 'ENE_F_03', 'ENE_F_04', 'ENE_F_05',\n",
    "                    'ENE_F_06','ENE_F_07', 'ENE_F_08', 'ENE_F_09', 'ENE_F_10', 'ENE_F_11',\n",
    "                    'ENE_F_12','DESCR','DIC_01', 'DIC_02', 'DIC_03', 'DIC_04', 'DIC_05','DIC_06',\n",
    "                    'DIC_07','DIC_08', 'DIC_09', 'DIC_10', 'DIC_11', 'DIC_12','FIC_01', 'FIC_02',\n",
    "                    'FIC_03', 'FIC_04', 'FIC_05', 'FIC_06', 'FIC_07','FIC_08', 'FIC_09', 'FIC_10',\n",
    "                    'FIC_11', 'FIC_12'],axis= 1 ,inplace=True)"
   ]
  },
  {
   "cell_type": "code",
   "execution_count": null,
   "id": "d1c348a6-b2b2-4add-95cc-61484d2c061b",
   "metadata": {},
   "outputs": [],
   "source": [
    "#Adicionando colunas para igualar com MT \n",
    "dataframe_raw['SEMRED'] = 0\n",
    "dataframe_raw['UNI_TR_S'] = 0\n",
    "\n",
    "#Renomear a CTAT_CTMT para esse nome tanto no AT e MT\n",
    "dataframe_raw.rename(columns={'CTAT':'CT_AT_MT'},inplace=True)"
   ]
  },
  {
   "cell_type": "code",
   "execution_count": null,
   "id": "66e3779e",
   "metadata": {},
   "outputs": [],
   "source": [
    " #Create Table SQL\n",
    "bdgd_at = create_table('bdgd_at_test')"
   ]
  },
  {
   "cell_type": "code",
   "execution_count": null,
   "id": "e2274a40",
   "metadata": {},
   "outputs": [],
   "source": [
    "# Loc columns to commit\n",
    "df_bdgd_at = dataframe_raw\\\n",
    "    .loc[:,['COD_ID','DIST','LGRD','BRR','MUNICIPIO','ESTADO',\n",
    "            'UF','COD_UF','MUN','CEP','CNAE','ENE_MED',\n",
    "            'DEM_MAX','DEM_CONT','LIV','GRU_TAR','SIT_ATIV',\n",
    "            'CLAS_SUB','DAT_CON']].copy()"
   ]
  },
  {
   "cell_type": "code",
   "execution_count": null,
   "id": "e099d123",
   "metadata": {},
   "outputs": [],
   "source": [
    "#Tranform List-Dict to SqlAlchemy\n",
    "values_list =[{'COD_ID':row.COD_ID, 'DIST':row.DIST, 'LGRD':row.LGRD, 'BRR':row.BRR,\n",
    "  'MUNICIPIO':row.MUNICIPIO, 'ESTADO':row.ESTADO, 'UF':row.UF,\n",
    "  'COD_UF':row.COD_UF, 'MUN':row.MUN, 'CEP':row.CEP,\n",
    "  'CNAE':row.CNAE, 'ENE_MED':row.ENE_MED, 'DEM_MAX':row.DEM_MAX,\n",
    "  'LIV':row.LIV, 'GRU_TAR':row.GRU_TAR,'SIT_ATIV':row.SIT_ATIV,\n",
    "  'CLAS_SUB':row.CLAS_SUB,'DAT_CON':row.DAT_CON} for row in df_bdgd_at.itertuples()]"
   ]
  },
  {
   "cell_type": "code",
   "execution_count": null,
   "id": "62f9f634",
   "metadata": {},
   "outputs": [],
   "source": [
    "#Commit Oracle - SQL \n",
    "stmt = insert(bdgd_at)\n",
    "results_proxy = connection.execute(stmt,values_list)\n",
    "connection.commit()\n",
    "\n",
    "print(results_proxy.rowcount)"
   ]
  }
 ],
 "metadata": {
  "kernelspec": {
   "display_name": "Python 3 (ipykernel)",
   "language": "python",
   "name": "python3"
  },
  "language_info": {
   "codemirror_mode": {
    "name": "ipython",
    "version": 3
   },
   "file_extension": ".py",
   "mimetype": "text/x-python",
   "name": "python",
   "nbconvert_exporter": "python",
   "pygments_lexer": "ipython3",
   "version": "3.10.8"
  },
  "vscode": {
   "interpreter": {
    "hash": "91be499baec0d0ffc6be11b31c70b1ddae66a4dfc8d8c50f7561a95d256ed62e"
   }
  }
 },
 "nbformat": 4,
 "nbformat_minor": 5
}
